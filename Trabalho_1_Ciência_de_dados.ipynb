{
  "nbformat": 4,
  "nbformat_minor": 0,
  "metadata": {
    "colab": {
      "provenance": [],
      "authorship_tag": "ABX9TyPUoUf5Ipwvzo1cZ4Y6QN41",
      "include_colab_link": true
    },
    "kernelspec": {
      "name": "python3",
      "display_name": "Python 3"
    },
    "language_info": {
      "name": "python"
    },
    "widgets": {
      "application/vnd.jupyter.widget-state+json": {
        "bca63821fe534dbaac281316b94aa217": {
          "model_module": "@jupyter-widgets/controls",
          "model_name": "DropdownModel",
          "model_module_version": "1.5.0",
          "state": {
            "_dom_classes": [],
            "_model_module": "@jupyter-widgets/controls",
            "_model_module_version": "1.5.0",
            "_model_name": "DropdownModel",
            "_options_labels": [
              "1957",
              "1958",
              "1960",
              "1961",
              "1962",
              "1963",
              "1964",
              "1965",
              "1966",
              "1967",
              "1968",
              "1969",
              "1970",
              "1971",
              "1972",
              "1973",
              "1974",
              "1975",
              "1976",
              "1977",
              "1978",
              "1979",
              "1980",
              "1981",
              "1982",
              "1983",
              "1984",
              "1985",
              "1986",
              "1987",
              "1988",
              "1989",
              "1990",
              "1991",
              "1992",
              "1993",
              "1994",
              "1995",
              "1996",
              "1997",
              "1998",
              "1999",
              "2000",
              "2001",
              "2002",
              "2003",
              "2004",
              "2005",
              "2006",
              "2007",
              "2008",
              "2009",
              "2010",
              "2011",
              "2012",
              "2013",
              "2014",
              "2015",
              "2016",
              "2017",
              "2018",
              "2019",
              "2020"
            ],
            "_view_count": null,
            "_view_module": "@jupyter-widgets/controls",
            "_view_module_version": "1.5.0",
            "_view_name": "DropdownView",
            "description": "Selecione o Ano:",
            "description_tooltip": null,
            "disabled": false,
            "index": 60,
            "layout": "IPY_MODEL_76961ebf66d5467698c1becfce9fc5c3",
            "style": "IPY_MODEL_55a79a9541ca43bb80afb69bb725fed9"
          }
        },
        "76961ebf66d5467698c1becfce9fc5c3": {
          "model_module": "@jupyter-widgets/base",
          "model_name": "LayoutModel",
          "model_module_version": "1.2.0",
          "state": {
            "_model_module": "@jupyter-widgets/base",
            "_model_module_version": "1.2.0",
            "_model_name": "LayoutModel",
            "_view_count": null,
            "_view_module": "@jupyter-widgets/base",
            "_view_module_version": "1.2.0",
            "_view_name": "LayoutView",
            "align_content": null,
            "align_items": null,
            "align_self": null,
            "border": null,
            "bottom": null,
            "display": null,
            "flex": null,
            "flex_flow": null,
            "grid_area": null,
            "grid_auto_columns": null,
            "grid_auto_flow": null,
            "grid_auto_rows": null,
            "grid_column": null,
            "grid_gap": null,
            "grid_row": null,
            "grid_template_areas": null,
            "grid_template_columns": null,
            "grid_template_rows": null,
            "height": null,
            "justify_content": null,
            "justify_items": null,
            "left": null,
            "margin": null,
            "max_height": null,
            "max_width": null,
            "min_height": null,
            "min_width": null,
            "object_fit": null,
            "object_position": null,
            "order": null,
            "overflow": null,
            "overflow_x": null,
            "overflow_y": null,
            "padding": null,
            "right": null,
            "top": null,
            "visibility": null,
            "width": null
          }
        },
        "55a79a9541ca43bb80afb69bb725fed9": {
          "model_module": "@jupyter-widgets/controls",
          "model_name": "DescriptionStyleModel",
          "model_module_version": "1.5.0",
          "state": {
            "_model_module": "@jupyter-widgets/controls",
            "_model_module_version": "1.5.0",
            "_model_name": "DescriptionStyleModel",
            "_view_count": null,
            "_view_module": "@jupyter-widgets/base",
            "_view_module_version": "1.2.0",
            "_view_name": "StyleView",
            "description_width": ""
          }
        }
      }
    }
  },
  "cells": [
    {
      "cell_type": "markdown",
      "metadata": {
        "id": "view-in-github",
        "colab_type": "text"
      },
      "source": [
        "<a href=\"https://colab.research.google.com/github/StellaDuarte/Ci-nciadedados/blob/main/Trabalho_1_Ci%C3%AAncia_de_dados.ipynb\" target=\"_parent\"><img src=\"https://colab.research.google.com/assets/colab-badge.svg\" alt=\"Open In Colab\"/></a>"
      ]
    },
    {
      "cell_type": "markdown",
      "source": [
        "#Trabalho 1 - Curso Ciência de Dados UERJ\n"
      ],
      "metadata": {
        "id": "rqPyyIidDfmZ"
      }
    },
    {
      "cell_type": "markdown",
      "source": [
        "##informações sobre banco de dados analisado:"
      ],
      "metadata": {
        "id": "urJbmTnEooMD"
      }
    },
    {
      "cell_type": "code",
      "execution_count": null,
      "metadata": {
        "id": "OzRHfKYyDYSj",
        "colab": {
          "base_uri": "https://localhost:8080/",
          "height": 551
        },
        "outputId": "e312d6f0-5430-43ba-d6c4-09fc5bcb1fec"
      },
      "outputs": [
        {
          "output_type": "execute_result",
          "data": {
            "text/plain": [
              "                 track_id                                         track_name  \\\n",
              "0  6f807x0ima9a1j3VPbc7VN  I Don't Care (with Justin Bieber) - Loud Luxur...   \n",
              "1  0r7CVbZTWZgbTCYdfa2P31                    Memories - Dillon Francis Remix   \n",
              "2  1z1Hg7Vb0AhHDiEmnDE79l                    All the Time - Don Diablo Remix   \n",
              "3  75FpbthrwQmzHlBJLuGdC7                  Call You Mine - Keanu Silva Remix   \n",
              "4  1e8PAfcKUYoKkxPhrHqw4x            Someone You Loved - Future Humans Remix   \n",
              "\n",
              "       track_artist  track_popularity          track_album_id  \\\n",
              "0        Ed Sheeran                66  2oCs0DGTsRO98Gh5ZSl2Cx   \n",
              "1          Maroon 5                67  63rPSO264uRjW1X5E6cWv6   \n",
              "2      Zara Larsson                70  1HoSmj2eLcsrR0vE9gThr4   \n",
              "3  The Chainsmokers                60  1nqYsOef1yKKuGOVchbsk6   \n",
              "4     Lewis Capaldi                69  7m7vv9wlQ4i0LFuJiE2zsQ   \n",
              "\n",
              "                                    track_album_name track_album_release_date  \\\n",
              "0  I Don't Care (with Justin Bieber) [Loud Luxury...               2019-06-14   \n",
              "1                    Memories (Dillon Francis Remix)               2019-12-13   \n",
              "2                    All the Time (Don Diablo Remix)               2019-07-05   \n",
              "3                        Call You Mine - The Remixes               2019-07-19   \n",
              "4            Someone You Loved (Future Humans Remix)               2019-03-05   \n",
              "\n",
              "  playlist_name             playlist_id playlist_genre  ... key  loudness  \\\n",
              "0     Pop Remix  37i9dQZF1DXcZDD7cfEKhW            pop  ...   6    -2.634   \n",
              "1     Pop Remix  37i9dQZF1DXcZDD7cfEKhW            pop  ...  11    -4.969   \n",
              "2     Pop Remix  37i9dQZF1DXcZDD7cfEKhW            pop  ...   1    -3.432   \n",
              "3     Pop Remix  37i9dQZF1DXcZDD7cfEKhW            pop  ...   7    -3.778   \n",
              "4     Pop Remix  37i9dQZF1DXcZDD7cfEKhW            pop  ...   1    -4.672   \n",
              "\n",
              "   mode  speechiness  acousticness  instrumentalness  liveness  valence  \\\n",
              "0     1       0.0583        0.1020          0.000000    0.0653    0.518   \n",
              "1     1       0.0373        0.0724          0.004210    0.3570    0.693   \n",
              "2     0       0.0742        0.0794          0.000023    0.1100    0.613   \n",
              "3     1       0.1020        0.0287          0.000009    0.2040    0.277   \n",
              "4     1       0.0359        0.0803          0.000000    0.0833    0.725   \n",
              "\n",
              "     tempo  duration_ms  \n",
              "0  122.036       194754  \n",
              "1   99.972       162600  \n",
              "2  124.008       176616  \n",
              "3  121.956       169093  \n",
              "4  123.976       189052  \n",
              "\n",
              "[5 rows x 23 columns]"
            ],
            "text/html": [
              "\n",
              "  <div id=\"df-c0880970-ecf8-4a7e-aed8-6f23959ed31a\" class=\"colab-df-container\">\n",
              "    <div>\n",
              "<style scoped>\n",
              "    .dataframe tbody tr th:only-of-type {\n",
              "        vertical-align: middle;\n",
              "    }\n",
              "\n",
              "    .dataframe tbody tr th {\n",
              "        vertical-align: top;\n",
              "    }\n",
              "\n",
              "    .dataframe thead th {\n",
              "        text-align: right;\n",
              "    }\n",
              "</style>\n",
              "<table border=\"1\" class=\"dataframe\">\n",
              "  <thead>\n",
              "    <tr style=\"text-align: right;\">\n",
              "      <th></th>\n",
              "      <th>track_id</th>\n",
              "      <th>track_name</th>\n",
              "      <th>track_artist</th>\n",
              "      <th>track_popularity</th>\n",
              "      <th>track_album_id</th>\n",
              "      <th>track_album_name</th>\n",
              "      <th>track_album_release_date</th>\n",
              "      <th>playlist_name</th>\n",
              "      <th>playlist_id</th>\n",
              "      <th>playlist_genre</th>\n",
              "      <th>...</th>\n",
              "      <th>key</th>\n",
              "      <th>loudness</th>\n",
              "      <th>mode</th>\n",
              "      <th>speechiness</th>\n",
              "      <th>acousticness</th>\n",
              "      <th>instrumentalness</th>\n",
              "      <th>liveness</th>\n",
              "      <th>valence</th>\n",
              "      <th>tempo</th>\n",
              "      <th>duration_ms</th>\n",
              "    </tr>\n",
              "  </thead>\n",
              "  <tbody>\n",
              "    <tr>\n",
              "      <th>0</th>\n",
              "      <td>6f807x0ima9a1j3VPbc7VN</td>\n",
              "      <td>I Don't Care (with Justin Bieber) - Loud Luxur...</td>\n",
              "      <td>Ed Sheeran</td>\n",
              "      <td>66</td>\n",
              "      <td>2oCs0DGTsRO98Gh5ZSl2Cx</td>\n",
              "      <td>I Don't Care (with Justin Bieber) [Loud Luxury...</td>\n",
              "      <td>2019-06-14</td>\n",
              "      <td>Pop Remix</td>\n",
              "      <td>37i9dQZF1DXcZDD7cfEKhW</td>\n",
              "      <td>pop</td>\n",
              "      <td>...</td>\n",
              "      <td>6</td>\n",
              "      <td>-2.634</td>\n",
              "      <td>1</td>\n",
              "      <td>0.0583</td>\n",
              "      <td>0.1020</td>\n",
              "      <td>0.000000</td>\n",
              "      <td>0.0653</td>\n",
              "      <td>0.518</td>\n",
              "      <td>122.036</td>\n",
              "      <td>194754</td>\n",
              "    </tr>\n",
              "    <tr>\n",
              "      <th>1</th>\n",
              "      <td>0r7CVbZTWZgbTCYdfa2P31</td>\n",
              "      <td>Memories - Dillon Francis Remix</td>\n",
              "      <td>Maroon 5</td>\n",
              "      <td>67</td>\n",
              "      <td>63rPSO264uRjW1X5E6cWv6</td>\n",
              "      <td>Memories (Dillon Francis Remix)</td>\n",
              "      <td>2019-12-13</td>\n",
              "      <td>Pop Remix</td>\n",
              "      <td>37i9dQZF1DXcZDD7cfEKhW</td>\n",
              "      <td>pop</td>\n",
              "      <td>...</td>\n",
              "      <td>11</td>\n",
              "      <td>-4.969</td>\n",
              "      <td>1</td>\n",
              "      <td>0.0373</td>\n",
              "      <td>0.0724</td>\n",
              "      <td>0.004210</td>\n",
              "      <td>0.3570</td>\n",
              "      <td>0.693</td>\n",
              "      <td>99.972</td>\n",
              "      <td>162600</td>\n",
              "    </tr>\n",
              "    <tr>\n",
              "      <th>2</th>\n",
              "      <td>1z1Hg7Vb0AhHDiEmnDE79l</td>\n",
              "      <td>All the Time - Don Diablo Remix</td>\n",
              "      <td>Zara Larsson</td>\n",
              "      <td>70</td>\n",
              "      <td>1HoSmj2eLcsrR0vE9gThr4</td>\n",
              "      <td>All the Time (Don Diablo Remix)</td>\n",
              "      <td>2019-07-05</td>\n",
              "      <td>Pop Remix</td>\n",
              "      <td>37i9dQZF1DXcZDD7cfEKhW</td>\n",
              "      <td>pop</td>\n",
              "      <td>...</td>\n",
              "      <td>1</td>\n",
              "      <td>-3.432</td>\n",
              "      <td>0</td>\n",
              "      <td>0.0742</td>\n",
              "      <td>0.0794</td>\n",
              "      <td>0.000023</td>\n",
              "      <td>0.1100</td>\n",
              "      <td>0.613</td>\n",
              "      <td>124.008</td>\n",
              "      <td>176616</td>\n",
              "    </tr>\n",
              "    <tr>\n",
              "      <th>3</th>\n",
              "      <td>75FpbthrwQmzHlBJLuGdC7</td>\n",
              "      <td>Call You Mine - Keanu Silva Remix</td>\n",
              "      <td>The Chainsmokers</td>\n",
              "      <td>60</td>\n",
              "      <td>1nqYsOef1yKKuGOVchbsk6</td>\n",
              "      <td>Call You Mine - The Remixes</td>\n",
              "      <td>2019-07-19</td>\n",
              "      <td>Pop Remix</td>\n",
              "      <td>37i9dQZF1DXcZDD7cfEKhW</td>\n",
              "      <td>pop</td>\n",
              "      <td>...</td>\n",
              "      <td>7</td>\n",
              "      <td>-3.778</td>\n",
              "      <td>1</td>\n",
              "      <td>0.1020</td>\n",
              "      <td>0.0287</td>\n",
              "      <td>0.000009</td>\n",
              "      <td>0.2040</td>\n",
              "      <td>0.277</td>\n",
              "      <td>121.956</td>\n",
              "      <td>169093</td>\n",
              "    </tr>\n",
              "    <tr>\n",
              "      <th>4</th>\n",
              "      <td>1e8PAfcKUYoKkxPhrHqw4x</td>\n",
              "      <td>Someone You Loved - Future Humans Remix</td>\n",
              "      <td>Lewis Capaldi</td>\n",
              "      <td>69</td>\n",
              "      <td>7m7vv9wlQ4i0LFuJiE2zsQ</td>\n",
              "      <td>Someone You Loved (Future Humans Remix)</td>\n",
              "      <td>2019-03-05</td>\n",
              "      <td>Pop Remix</td>\n",
              "      <td>37i9dQZF1DXcZDD7cfEKhW</td>\n",
              "      <td>pop</td>\n",
              "      <td>...</td>\n",
              "      <td>1</td>\n",
              "      <td>-4.672</td>\n",
              "      <td>1</td>\n",
              "      <td>0.0359</td>\n",
              "      <td>0.0803</td>\n",
              "      <td>0.000000</td>\n",
              "      <td>0.0833</td>\n",
              "      <td>0.725</td>\n",
              "      <td>123.976</td>\n",
              "      <td>189052</td>\n",
              "    </tr>\n",
              "  </tbody>\n",
              "</table>\n",
              "<p>5 rows × 23 columns</p>\n",
              "</div>\n",
              "    <div class=\"colab-df-buttons\">\n",
              "\n",
              "  <div class=\"colab-df-container\">\n",
              "    <button class=\"colab-df-convert\" onclick=\"convertToInteractive('df-c0880970-ecf8-4a7e-aed8-6f23959ed31a')\"\n",
              "            title=\"Convert this dataframe to an interactive table.\"\n",
              "            style=\"display:none;\">\n",
              "\n",
              "  <svg xmlns=\"http://www.w3.org/2000/svg\" height=\"24px\" viewBox=\"0 -960 960 960\">\n",
              "    <path d=\"M120-120v-720h720v720H120Zm60-500h600v-160H180v160Zm220 220h160v-160H400v160Zm0 220h160v-160H400v160ZM180-400h160v-160H180v160Zm440 0h160v-160H620v160ZM180-180h160v-160H180v160Zm440 0h160v-160H620v160Z\"/>\n",
              "  </svg>\n",
              "    </button>\n",
              "\n",
              "  <style>\n",
              "    .colab-df-container {\n",
              "      display:flex;\n",
              "      gap: 12px;\n",
              "    }\n",
              "\n",
              "    .colab-df-convert {\n",
              "      background-color: #E8F0FE;\n",
              "      border: none;\n",
              "      border-radius: 50%;\n",
              "      cursor: pointer;\n",
              "      display: none;\n",
              "      fill: #1967D2;\n",
              "      height: 32px;\n",
              "      padding: 0 0 0 0;\n",
              "      width: 32px;\n",
              "    }\n",
              "\n",
              "    .colab-df-convert:hover {\n",
              "      background-color: #E2EBFA;\n",
              "      box-shadow: 0px 1px 2px rgba(60, 64, 67, 0.3), 0px 1px 3px 1px rgba(60, 64, 67, 0.15);\n",
              "      fill: #174EA6;\n",
              "    }\n",
              "\n",
              "    .colab-df-buttons div {\n",
              "      margin-bottom: 4px;\n",
              "    }\n",
              "\n",
              "    [theme=dark] .colab-df-convert {\n",
              "      background-color: #3B4455;\n",
              "      fill: #D2E3FC;\n",
              "    }\n",
              "\n",
              "    [theme=dark] .colab-df-convert:hover {\n",
              "      background-color: #434B5C;\n",
              "      box-shadow: 0px 1px 3px 1px rgba(0, 0, 0, 0.15);\n",
              "      filter: drop-shadow(0px 1px 2px rgba(0, 0, 0, 0.3));\n",
              "      fill: #FFFFFF;\n",
              "    }\n",
              "  </style>\n",
              "\n",
              "    <script>\n",
              "      const buttonEl =\n",
              "        document.querySelector('#df-c0880970-ecf8-4a7e-aed8-6f23959ed31a button.colab-df-convert');\n",
              "      buttonEl.style.display =\n",
              "        google.colab.kernel.accessAllowed ? 'block' : 'none';\n",
              "\n",
              "      async function convertToInteractive(key) {\n",
              "        const element = document.querySelector('#df-c0880970-ecf8-4a7e-aed8-6f23959ed31a');\n",
              "        const dataTable =\n",
              "          await google.colab.kernel.invokeFunction('convertToInteractive',\n",
              "                                                    [key], {});\n",
              "        if (!dataTable) return;\n",
              "\n",
              "        const docLinkHtml = 'Like what you see? Visit the ' +\n",
              "          '<a target=\"_blank\" href=https://colab.research.google.com/notebooks/data_table.ipynb>data table notebook</a>'\n",
              "          + ' to learn more about interactive tables.';\n",
              "        element.innerHTML = '';\n",
              "        dataTable['output_type'] = 'display_data';\n",
              "        await google.colab.output.renderOutput(dataTable, element);\n",
              "        const docLink = document.createElement('div');\n",
              "        docLink.innerHTML = docLinkHtml;\n",
              "        element.appendChild(docLink);\n",
              "      }\n",
              "    </script>\n",
              "  </div>\n",
              "\n",
              "\n",
              "<div id=\"df-31e5e70b-9487-46ef-813c-079deff66a45\">\n",
              "  <button class=\"colab-df-quickchart\" onclick=\"quickchart('df-31e5e70b-9487-46ef-813c-079deff66a45')\"\n",
              "            title=\"Suggest charts.\"\n",
              "            style=\"display:none;\">\n",
              "\n",
              "<svg xmlns=\"http://www.w3.org/2000/svg\" height=\"24px\"viewBox=\"0 0 24 24\"\n",
              "     width=\"24px\">\n",
              "    <g>\n",
              "        <path d=\"M19 3H5c-1.1 0-2 .9-2 2v14c0 1.1.9 2 2 2h14c1.1 0 2-.9 2-2V5c0-1.1-.9-2-2-2zM9 17H7v-7h2v7zm4 0h-2V7h2v10zm4 0h-2v-4h2v4z\"/>\n",
              "    </g>\n",
              "</svg>\n",
              "  </button>\n",
              "\n",
              "<style>\n",
              "  .colab-df-quickchart {\n",
              "      --bg-color: #E8F0FE;\n",
              "      --fill-color: #1967D2;\n",
              "      --hover-bg-color: #E2EBFA;\n",
              "      --hover-fill-color: #174EA6;\n",
              "      --disabled-fill-color: #AAA;\n",
              "      --disabled-bg-color: #DDD;\n",
              "  }\n",
              "\n",
              "  [theme=dark] .colab-df-quickchart {\n",
              "      --bg-color: #3B4455;\n",
              "      --fill-color: #D2E3FC;\n",
              "      --hover-bg-color: #434B5C;\n",
              "      --hover-fill-color: #FFFFFF;\n",
              "      --disabled-bg-color: #3B4455;\n",
              "      --disabled-fill-color: #666;\n",
              "  }\n",
              "\n",
              "  .colab-df-quickchart {\n",
              "    background-color: var(--bg-color);\n",
              "    border: none;\n",
              "    border-radius: 50%;\n",
              "    cursor: pointer;\n",
              "    display: none;\n",
              "    fill: var(--fill-color);\n",
              "    height: 32px;\n",
              "    padding: 0;\n",
              "    width: 32px;\n",
              "  }\n",
              "\n",
              "  .colab-df-quickchart:hover {\n",
              "    background-color: var(--hover-bg-color);\n",
              "    box-shadow: 0 1px 2px rgba(60, 64, 67, 0.3), 0 1px 3px 1px rgba(60, 64, 67, 0.15);\n",
              "    fill: var(--button-hover-fill-color);\n",
              "  }\n",
              "\n",
              "  .colab-df-quickchart-complete:disabled,\n",
              "  .colab-df-quickchart-complete:disabled:hover {\n",
              "    background-color: var(--disabled-bg-color);\n",
              "    fill: var(--disabled-fill-color);\n",
              "    box-shadow: none;\n",
              "  }\n",
              "\n",
              "  .colab-df-spinner {\n",
              "    border: 2px solid var(--fill-color);\n",
              "    border-color: transparent;\n",
              "    border-bottom-color: var(--fill-color);\n",
              "    animation:\n",
              "      spin 1s steps(1) infinite;\n",
              "  }\n",
              "\n",
              "  @keyframes spin {\n",
              "    0% {\n",
              "      border-color: transparent;\n",
              "      border-bottom-color: var(--fill-color);\n",
              "      border-left-color: var(--fill-color);\n",
              "    }\n",
              "    20% {\n",
              "      border-color: transparent;\n",
              "      border-left-color: var(--fill-color);\n",
              "      border-top-color: var(--fill-color);\n",
              "    }\n",
              "    30% {\n",
              "      border-color: transparent;\n",
              "      border-left-color: var(--fill-color);\n",
              "      border-top-color: var(--fill-color);\n",
              "      border-right-color: var(--fill-color);\n",
              "    }\n",
              "    40% {\n",
              "      border-color: transparent;\n",
              "      border-right-color: var(--fill-color);\n",
              "      border-top-color: var(--fill-color);\n",
              "    }\n",
              "    60% {\n",
              "      border-color: transparent;\n",
              "      border-right-color: var(--fill-color);\n",
              "    }\n",
              "    80% {\n",
              "      border-color: transparent;\n",
              "      border-right-color: var(--fill-color);\n",
              "      border-bottom-color: var(--fill-color);\n",
              "    }\n",
              "    90% {\n",
              "      border-color: transparent;\n",
              "      border-bottom-color: var(--fill-color);\n",
              "    }\n",
              "  }\n",
              "</style>\n",
              "\n",
              "  <script>\n",
              "    async function quickchart(key) {\n",
              "      const quickchartButtonEl =\n",
              "        document.querySelector('#' + key + ' button');\n",
              "      quickchartButtonEl.disabled = true;  // To prevent multiple clicks.\n",
              "      quickchartButtonEl.classList.add('colab-df-spinner');\n",
              "      try {\n",
              "        const charts = await google.colab.kernel.invokeFunction(\n",
              "            'suggestCharts', [key], {});\n",
              "      } catch (error) {\n",
              "        console.error('Error during call to suggestCharts:', error);\n",
              "      }\n",
              "      quickchartButtonEl.classList.remove('colab-df-spinner');\n",
              "      quickchartButtonEl.classList.add('colab-df-quickchart-complete');\n",
              "    }\n",
              "    (() => {\n",
              "      let quickchartButtonEl =\n",
              "        document.querySelector('#df-31e5e70b-9487-46ef-813c-079deff66a45 button');\n",
              "      quickchartButtonEl.style.display =\n",
              "        google.colab.kernel.accessAllowed ? 'block' : 'none';\n",
              "    })();\n",
              "  </script>\n",
              "</div>\n",
              "    </div>\n",
              "  </div>\n"
            ]
          },
          "metadata": {},
          "execution_count": 12
        }
      ],
      "source": [
        "import pandas as pd\n",
        "import matplotlib.pyplot as plt\n",
        "url='https://github.com/StellaDuarte/Ci-nciadedados/raw/main/spotify_songs.csv'\n",
        "#site: https://www.kaggle.com/datasets/sujaykapadnis/spotify-songs\n",
        "tab = pd.read_csv(url)\n",
        "tab.head()"
      ]
    },
    {
      "cell_type": "code",
      "source": [
        "tab.info()"
      ],
      "metadata": {
        "colab": {
          "base_uri": "https://localhost:8080/"
        },
        "id": "BzcsrLFeCQSx",
        "outputId": "293abb4b-42a5-45d8-d4a0-285b9ba54a1c"
      },
      "execution_count": null,
      "outputs": [
        {
          "output_type": "stream",
          "name": "stdout",
          "text": [
            "<class 'pandas.core.frame.DataFrame'>\n",
            "RangeIndex: 32833 entries, 0 to 32832\n",
            "Data columns (total 23 columns):\n",
            " #   Column                    Non-Null Count  Dtype  \n",
            "---  ------                    --------------  -----  \n",
            " 0   track_id                  32833 non-null  object \n",
            " 1   track_name                32828 non-null  object \n",
            " 2   track_artist              32828 non-null  object \n",
            " 3   track_popularity          32833 non-null  int64  \n",
            " 4   track_album_id            32833 non-null  object \n",
            " 5   track_album_name          32828 non-null  object \n",
            " 6   track_album_release_date  32833 non-null  object \n",
            " 7   playlist_name             32833 non-null  object \n",
            " 8   playlist_id               32833 non-null  object \n",
            " 9   playlist_genre            32833 non-null  object \n",
            " 10  playlist_subgenre         32833 non-null  object \n",
            " 11  danceability              32833 non-null  float64\n",
            " 12  energy                    32833 non-null  float64\n",
            " 13  key                       32833 non-null  int64  \n",
            " 14  loudness                  32833 non-null  float64\n",
            " 15  mode                      32833 non-null  int64  \n",
            " 16  speechiness               32833 non-null  float64\n",
            " 17  acousticness              32833 non-null  float64\n",
            " 18  instrumentalness          32833 non-null  float64\n",
            " 19  liveness                  32833 non-null  float64\n",
            " 20  valence                   32833 non-null  float64\n",
            " 21  tempo                     32833 non-null  float64\n",
            " 22  duration_ms               32833 non-null  int64  \n",
            "dtypes: float64(9), int64(4), object(10)\n",
            "memory usage: 5.8+ MB\n"
          ]
        }
      ]
    },
    {
      "cell_type": "markdown",
      "source": [
        "##A seguir algumas informações importantes sobre as variáveis que aparecem nesta base de dados:\n",
        "\n",
        "* Acousticness: Uma medida de confiança de 0.0 a 1.0 para definir se a faixa é\n",
        "acústica,ou seja, utiliza equipamentos sem meios eletrônicos. Faixas com o valor 1.0 possuem alta confiança que sejam acústicas.\n",
        "\n",
        "* Danceability: Classifica como uma faixa é adequada para dançar baseada em uma combinação de elementos musicais, incluindo tempo, estabilidade de ritmo, força de batida e regularidade geral. Um valor de 0.0 significa que a faixa possui uma tendência de ser menos dançante e 1.0 indica uma grande tendência de ser dançante.\n",
        "\n",
        "* Energy: A Energia é medida de 0.0 a 1.0 e representa uma medida perceptual de intensidade e atividade. Normalmente, faixas energéticas são rápidas e barulhentas. Em resumo, um valor de energia 0.0 significa que a faixa possui uma tendência de ser mais “calma”, como uma música clássica e 1.0 indica uma grande tendência de ser músicas mais agitadas como o death metal.\n",
        "\n",
        "* Instrumentalness: Prevê se uma faixa não contém vocais. Os sons “Ooh” e “aah” são tratados como instrumentais neste contexto. Faixas de rap ou palavras faladas são claramente “vocais”. Quanto mais próximo o valor de instrumentalness for de 1.0, maior a probabilidade de a faixa não conter conteúdo vocal. Valores acima de 0.5 destinam-se a representar faixas instrumentais, mas a confiança é maior à medida que o valor se aproxima de 1.0\n",
        "\n",
        "* Liveness: Detecta a presença de um público na gravação. Valores mais altos de atividade representam uma probabilidade maior de que a faixa foi executada ao vivo. Um valor acima de 0.8 fornece uma forte probabilidade de que a faixa seja ao vivo.\n",
        "\n",
        "* Loudness: O volume total de uma faixa em decibéis (dB). Os valores de sonoridade são calculados ao longo de toda a faixa e são úteis para comparar a intensidade relativa das faixas. A sonoridade é a qualidade de um som que é o principal correlato psicológico da força física (amplitude). Valores típicos variam entre -60 e 0 db.\n",
        "\n",
        "* Speechiness: Speechiness detecta a presença de palavras faladas em uma faixa. Quanto mais exclusivamente discursiva a gravação (por exemplo, talk show, audiobook, poesia), mais próximo de 1.0 o valor do atributo. Valores acima de 0.66 descrevem faixas que provavelmente são feitas inteiramente de palavras faladas. Valores entre 0.33 e 0.66 descrevem faixas que podem conter música e fala, seja em seções ou em camadas, incluindo casos como o rap. Valores abaixo de 0.33 provavelmente representam músicas e outras faixas não relacionadas à fala.\n",
        "\n",
        "* Valence: Uma medida de 0.0 a 1.0 descrevendo a positividade musical transmitida por uma faixa. Faixas com alta valência (mais próximas de 1.0) soam mais positivas (por exemplo, felizes, alegres, eufóricas), enquanto as faixas com baixa valência soam mais negativas (por exemplo, triste, deprimido, zangado).\n",
        "\n",
        "* Tempo: O tempo total estimado de uma faixa em batidas por minuto (BPM). Na terminologia musical, tempo é a velocidade ou ritmo de uma determinada peça e deriva diretamente da duração média da batida."
      ],
      "metadata": {
        "id": "KOy3mtoGW1GA"
      }
    },
    {
      "cell_type": "markdown",
      "source": [
        "## Abaixo algumas análises com histogramas para verificar a amostra de dados quanto às variáveis comentadas anteriormente:"
      ],
      "metadata": {
        "id": "LPlBoG3fcV7N"
      }
    },
    {
      "cell_type": "code",
      "source": [
        "dataset=tab\n",
        "# Função para plotagem dos gráficos de dispersão\n",
        "def plotarDispersoes(axis,features,colors, titles):\n",
        "    fig, (axis) = plt.subplots(ncols=len(axis), figsize=(20, 5))\n",
        "    qtd_itens = len(axis)\n",
        "    i = 0\n",
        "    while i < qtd_itens:\n",
        "        axis[i].hist(dataset[features[i]], 10, density=True, histtype='stepfilled', facecolor=colors[i], alpha=0.75)\n",
        "        axis[i].set_title(titles[i])\n",
        "        i+=1\n",
        "    fig.tight_layout()\n",
        "    return fig\n",
        "    plt.show()\n",
        "\n",
        "\n",
        "# Configuração do primeiro painel de gráficos de dispersão\n",
        "axis = ['ax0','ax1','ax2','ax3']\n",
        "features = ['acousticness', 'danceability', 'energy', 'instrumentalness']\n",
        "colors = ['red', 'blue','#42f465', '#f4b342']\n",
        "titles = ['Acousticness', 'Danceability', 'Energy', 'Instrumentalness']\n",
        "fig=plotarDispersoes(axis,features,colors,titles)\n",
        "fig.savefig('fig1.png')"
      ],
      "metadata": {
        "colab": {
          "base_uri": "https://localhost:8080/",
          "height": 195
        },
        "id": "-N2o_9ibcLgw",
        "outputId": "1be59e03-213c-4a34-84cd-12e77880c7cf"
      },
      "execution_count": null,
      "outputs": [
        {
          "output_type": "display_data",
          "data": {
            "text/plain": [
              "<Figure size 2000x500 with 4 Axes>"
            ],
            "image/png": "[encoded data removed]"
          },
          "metadata": {}
        }
      ]
    },
    {
      "cell_type": "code",
      "source": [
        "# Configuração do segundo painel de gráficos de dispersão\n",
        "axis = ['ax0','ax1','ax2','ax3','ax4']\n",
        "features = ['liveness', 'loudness', 'speechiness', 'valence', 'tempo']\n",
        "colors = ['#bc0f37', '#a6caed','#d66262', '#f4b342', '#2a4f48']\n",
        "titles = ['Liveness', 'Loudness', 'Speechiness', 'Valence', 'Tempo']\n",
        "plotarDispersoes(axis,features,colors,titles)"
      ],
      "metadata": {
        "colab": {
          "base_uri": "https://localhost:8080/",
          "height": 420
        },
        "id": "ClPsfL7FcS3_",
        "outputId": "9739e956-8b93-4442-e6b8-eecb54d4027e"
      },
      "execution_count": null,
      "outputs": [
        {
          "output_type": "display_data",
          "data": {
            "text/plain": [
              "<Figure size 2000x500 with 5 Axes>"
            ],
            "image/png": "[encoded data removed]"
          },
          "metadata": {}
        }
      ]
    },
    {
      "cell_type": "markdown",
      "source": [
        "##Perguntas e Respostas exploratórias do banco de dados:\n"
      ],
      "metadata": {
        "id": "sdsnej2uIjfg"
      }
    },
    {
      "cell_type": "markdown",
      "source": [
        "###1. Qual a música mais popular?"
      ],
      "metadata": {
        "id": "1_IMp1ebS17L"
      }
    },
    {
      "cell_type": "code",
      "source": [
        "max_pop=tab['track_popularity'].max()\n",
        "tab[tab['track_popularity']==max_pop]"
      ],
      "metadata": {
        "colab": {
          "base_uri": "https://localhost:8080/",
          "height": 249
        },
        "id": "FhEgvG_JGGmd",
        "outputId": "3b07eca2-ecea-4a3b-c472-7af70e73baa0"
      },
      "execution_count": null,
      "outputs": [
        {
          "output_type": "execute_result",
          "data": {
            "text/plain": [
              "                     track_id    track_name track_artist  track_popularity  \\\n",
              "1551   2XU0oxnq2qxCpomAAuJY8K  Dance Monkey  Tones and I               100   \n",
              "20091  2XU0oxnq2qxCpomAAuJY8K  Dance Monkey  Tones and I               100   \n",
              "\n",
              "               track_album_id                             track_album_name  \\\n",
              "1551   0UywfDKYlyiu1b38DRrzYD  Dance Monkey (Stripped Back) / Dance Monkey   \n",
              "20091  0UywfDKYlyiu1b38DRrzYD  Dance Monkey (Stripped Back) / Dance Monkey   \n",
              "\n",
              "      track_album_release_date  \\\n",
              "1551                2019-10-17   \n",
              "20091               2019-10-17   \n",
              "\n",
              "                                           playlist_name  \\\n",
              "1551   post-teen alternative, indie, pop (large variety)   \n",
              "20091                          Global Top 50 | 2020 Hits   \n",
              "\n",
              "                  playlist_id playlist_genre  ... key  loudness  mode  \\\n",
              "1551   1y42gwI5cuwjBslPyQNfqb            pop  ...   6      -6.4     0   \n",
              "20091  1KNl4AYfgZtOVm9KHkhPTF          latin  ...   6      -6.4     0   \n",
              "\n",
              "       speechiness  acousticness  instrumentalness  liveness  valence   tempo  \\\n",
              "1551        0.0924         0.692          0.000104     0.149    0.513  98.027   \n",
              "20091       0.0924         0.692          0.000104     0.149    0.513  98.027   \n",
              "\n",
              "       duration_ms  \n",
              "1551        209438  \n",
              "20091       209438  \n",
              "\n",
              "[2 rows x 23 columns]"
            ],
            "text/html": [
              "\n",
              "  <div id=\"df-ee58d167-74d7-43c4-9273-a75ba0dd268d\" class=\"colab-df-container\">\n",
              "    <div>\n",
              "<style scoped>\n",
              "    .dataframe tbody tr th:only-of-type {\n",
              "        vertical-align: middle;\n",
              "    }\n",
              "\n",
              "    .dataframe tbody tr th {\n",
              "        vertical-align: top;\n",
              "    }\n",
              "\n",
              "    .dataframe thead th {\n",
              "        text-align: right;\n",
              "    }\n",
              "</style>\n",
              "<table border=\"1\" class=\"dataframe\">\n",
              "  <thead>\n",
              "    <tr style=\"text-align: right;\">\n",
              "      <th></th>\n",
              "      <th>track_id</th>\n",
              "      <th>track_name</th>\n",
              "      <th>track_artist</th>\n",
              "      <th>track_popularity</th>\n",
              "      <th>track_album_id</th>\n",
              "      <th>track_album_name</th>\n",
              "      <th>track_album_release_date</th>\n",
              "      <th>playlist_name</th>\n",
              "      <th>playlist_id</th>\n",
              "      <th>playlist_genre</th>\n",
              "      <th>...</th>\n",
              "      <th>key</th>\n",
              "      <th>loudness</th>\n",
              "      <th>mode</th>\n",
              "      <th>speechiness</th>\n",
              "      <th>acousticness</th>\n",
              "      <th>instrumentalness</th>\n",
              "      <th>liveness</th>\n",
              "      <th>valence</th>\n",
              "      <th>tempo</th>\n",
              "      <th>duration_ms</th>\n",
              "    </tr>\n",
              "  </thead>\n",
              "  <tbody>\n",
              "    <tr>\n",
              "      <th>1551</th>\n",
              "      <td>2XU0oxnq2qxCpomAAuJY8K</td>\n",
              "      <td>Dance Monkey</td>\n",
              "      <td>Tones and I</td>\n",
              "      <td>100</td>\n",
              "      <td>0UywfDKYlyiu1b38DRrzYD</td>\n",
              "      <td>Dance Monkey (Stripped Back) / Dance Monkey</td>\n",
              "      <td>2019-10-17</td>\n",
              "      <td>post-teen alternative, indie, pop (large variety)</td>\n",
              "      <td>1y42gwI5cuwjBslPyQNfqb</td>\n",
              "      <td>pop</td>\n",
              "      <td>...</td>\n",
              "      <td>6</td>\n",
              "      <td>-6.4</td>\n",
              "      <td>0</td>\n",
              "      <td>0.0924</td>\n",
              "      <td>0.692</td>\n",
              "      <td>0.000104</td>\n",
              "      <td>0.149</td>\n",
              "      <td>0.513</td>\n",
              "      <td>98.027</td>\n",
              "      <td>209438</td>\n",
              "    </tr>\n",
              "    <tr>\n",
              "      <th>20091</th>\n",
              "      <td>2XU0oxnq2qxCpomAAuJY8K</td>\n",
              "      <td>Dance Monkey</td>\n",
              "      <td>Tones and I</td>\n",
              "      <td>100</td>\n",
              "      <td>0UywfDKYlyiu1b38DRrzYD</td>\n",
              "      <td>Dance Monkey (Stripped Back) / Dance Monkey</td>\n",
              "      <td>2019-10-17</td>\n",
              "      <td>Global Top 50 | 2020 Hits</td>\n",
              "      <td>1KNl4AYfgZtOVm9KHkhPTF</td>\n",
              "      <td>latin</td>\n",
              "      <td>...</td>\n",
              "      <td>6</td>\n",
              "      <td>-6.4</td>\n",
              "      <td>0</td>\n",
              "      <td>0.0924</td>\n",
              "      <td>0.692</td>\n",
              "      <td>0.000104</td>\n",
              "      <td>0.149</td>\n",
              "      <td>0.513</td>\n",
              "      <td>98.027</td>\n",
              "      <td>209438</td>\n",
              "    </tr>\n",
              "  </tbody>\n",
              "</table>\n",
              "<p>2 rows × 23 columns</p>\n",
              "</div>\n",
              "    <div class=\"colab-df-buttons\">\n",
              "\n",
              "  <div class=\"colab-df-container\">\n",
              "    <button class=\"colab-df-convert\" onclick=\"convertToInteractive('df-ee58d167-74d7-43c4-9273-a75ba0dd268d')\"\n",
              "            title=\"Convert this dataframe to an interactive table.\"\n",
              "            style=\"display:none;\">\n",
              "\n",
              "  <svg xmlns=\"http://www.w3.org/2000/svg\" height=\"24px\" viewBox=\"0 -960 960 960\">\n",
              "    <path d=\"M120-120v-720h720v720H120Zm60-500h600v-160H180v160Zm220 220h160v-160H400v160Zm0 220h160v-160H400v160ZM180-400h160v-160H180v160Zm440 0h160v-160H620v160ZM180-180h160v-160H180v160Zm440 0h160v-160H620v160Z\"/>\n",
              "  </svg>\n",
              "    </button>\n",
              "\n",
              "  <style>\n",
              "    .colab-df-container {\n",
              "      display:flex;\n",
              "      gap: 12px;\n",
              "    }\n",
              "\n",
              "    .colab-df-convert {\n",
              "      background-color: #E8F0FE;\n",
              "      border: none;\n",
              "      border-radius: 50%;\n",
              "      cursor: pointer;\n",
              "      display: none;\n",
              "      fill: #1967D2;\n",
              "      height: 32px;\n",
              "      padding: 0 0 0 0;\n",
              "      width: 32px;\n",
              "    }\n",
              "\n",
              "    .colab-df-convert:hover {\n",
              "      background-color: #E2EBFA;\n",
              "      box-shadow: 0px 1px 2px rgba(60, 64, 67, 0.3), 0px 1px 3px 1px rgba(60, 64, 67, 0.15);\n",
              "      fill: #174EA6;\n",
              "    }\n",
              "\n",
              "    .colab-df-buttons div {\n",
              "      margin-bottom: 4px;\n",
              "    }\n",
              "\n",
              "    [theme=dark] .colab-df-convert {\n",
              "      background-color: #3B4455;\n",
              "      fill: #D2E3FC;\n",
              "    }\n",
              "\n",
              "    [theme=dark] .colab-df-convert:hover {\n",
              "      background-color: #434B5C;\n",
              "      box-shadow: 0px 1px 3px 1px rgba(0, 0, 0, 0.15);\n",
              "      filter: drop-shadow(0px 1px 2px rgba(0, 0, 0, 0.3));\n",
              "      fill: #FFFFFF;\n",
              "    }\n",
              "  </style>\n",
              "\n",
              "    <script>\n",
              "      const buttonEl =\n",
              "        document.querySelector('#df-ee58d167-74d7-43c4-9273-a75ba0dd268d button.colab-df-convert');\n",
              "      buttonEl.style.display =\n",
              "        google.colab.kernel.accessAllowed ? 'block' : 'none';\n",
              "\n",
              "      async function convertToInteractive(key) {\n",
              "        const element = document.querySelector('#df-ee58d167-74d7-43c4-9273-a75ba0dd268d');\n",
              "        const dataTable =\n",
              "          await google.colab.kernel.invokeFunction('convertToInteractive',\n",
              "                                                    [key], {});\n",
              "        if (!dataTable) return;\n",
              "\n",
              "        const docLinkHtml = 'Like what you see? Visit the ' +\n",
              "          '<a target=\"_blank\" href=https://colab.research.google.com/notebooks/data_table.ipynb>data table notebook</a>'\n",
              "          + ' to learn more about interactive tables.';\n",
              "        element.innerHTML = '';\n",
              "        dataTable['output_type'] = 'display_data';\n",
              "        await google.colab.output.renderOutput(dataTable, element);\n",
              "        const docLink = document.createElement('div');\n",
              "        docLink.innerHTML = docLinkHtml;\n",
              "        element.appendChild(docLink);\n",
              "      }\n",
              "    </script>\n",
              "  </div>\n",
              "\n",
              "\n",
              "<div id=\"df-2c1fa80a-1d90-4666-9d29-b16771717dc0\">\n",
              "  <button class=\"colab-df-quickchart\" onclick=\"quickchart('df-2c1fa80a-1d90-4666-9d29-b16771717dc0')\"\n",
              "            title=\"Suggest charts.\"\n",
              "            style=\"display:none;\">\n",
              "\n",
              "<svg xmlns=\"http://www.w3.org/2000/svg\" height=\"24px\"viewBox=\"0 0 24 24\"\n",
              "     width=\"24px\">\n",
              "    <g>\n",
              "        <path d=\"M19 3H5c-1.1 0-2 .9-2 2v14c0 1.1.9 2 2 2h14c1.1 0 2-.9 2-2V5c0-1.1-.9-2-2-2zM9 17H7v-7h2v7zm4 0h-2V7h2v10zm4 0h-2v-4h2v4z\"/>\n",
              "    </g>\n",
              "</svg>\n",
              "  </button>\n",
              "\n",
              "<style>\n",
              "  .colab-df-quickchart {\n",
              "      --bg-color: #E8F0FE;\n",
              "      --fill-color: #1967D2;\n",
              "      --hover-bg-color: #E2EBFA;\n",
              "      --hover-fill-color: #174EA6;\n",
              "      --disabled-fill-color: #AAA;\n",
              "      --disabled-bg-color: #DDD;\n",
              "  }\n",
              "\n",
              "  [theme=dark] .colab-df-quickchart {\n",
              "      --bg-color: #3B4455;\n",
              "      --fill-color: #D2E3FC;\n",
              "      --hover-bg-color: #434B5C;\n",
              "      --hover-fill-color: #FFFFFF;\n",
              "      --disabled-bg-color: #3B4455;\n",
              "      --disabled-fill-color: #666;\n",
              "  }\n",
              "\n",
              "  .colab-df-quickchart {\n",
              "    background-color: var(--bg-color);\n",
              "    border: none;\n",
              "    border-radius: 50%;\n",
              "    cursor: pointer;\n",
              "    display: none;\n",
              "    fill: var(--fill-color);\n",
              "    height: 32px;\n",
              "    padding: 0;\n",
              "    width: 32px;\n",
              "  }\n",
              "\n",
              "  .colab-df-quickchart:hover {\n",
              "    background-color: var(--hover-bg-color);\n",
              "    box-shadow: 0 1px 2px rgba(60, 64, 67, 0.3), 0 1px 3px 1px rgba(60, 64, 67, 0.15);\n",
              "    fill: var(--button-hover-fill-color);\n",
              "  }\n",
              "\n",
              "  .colab-df-quickchart-complete:disabled,\n",
              "  .colab-df-quickchart-complete:disabled:hover {\n",
              "    background-color: var(--disabled-bg-color);\n",
              "    fill: var(--disabled-fill-color);\n",
              "    box-shadow: none;\n",
              "  }\n",
              "\n",
              "  .colab-df-spinner {\n",
              "    border: 2px solid var(--fill-color);\n",
              "    border-color: transparent;\n",
              "    border-bottom-color: var(--fill-color);\n",
              "    animation:\n",
              "      spin 1s steps(1) infinite;\n",
              "  }\n",
              "\n",
              "  @keyframes spin {\n",
              "    0% {\n",
              "      border-color: transparent;\n",
              "      border-bottom-color: var(--fill-color);\n",
              "      border-left-color: var(--fill-color);\n",
              "    }\n",
              "    20% {\n",
              "      border-color: transparent;\n",
              "      border-left-color: var(--fill-color);\n",
              "      border-top-color: var(--fill-color);\n",
              "    }\n",
              "    30% {\n",
              "      border-color: transparent;\n",
              "      border-left-color: var(--fill-color);\n",
              "      border-top-color: var(--fill-color);\n",
              "      border-right-color: var(--fill-color);\n",
              "    }\n",
              "    40% {\n",
              "      border-color: transparent;\n",
              "      border-right-color: var(--fill-color);\n",
              "      border-top-color: var(--fill-color);\n",
              "    }\n",
              "    60% {\n",
              "      border-color: transparent;\n",
              "      border-right-color: var(--fill-color);\n",
              "    }\n",
              "    80% {\n",
              "      border-color: transparent;\n",
              "      border-right-color: var(--fill-color);\n",
              "      border-bottom-color: var(--fill-color);\n",
              "    }\n",
              "    90% {\n",
              "      border-color: transparent;\n",
              "      border-bottom-color: var(--fill-color);\n",
              "    }\n",
              "  }\n",
              "</style>\n",
              "\n",
              "  <script>\n",
              "    async function quickchart(key) {\n",
              "      const quickchartButtonEl =\n",
              "        document.querySelector('#' + key + ' button');\n",
              "      quickchartButtonEl.disabled = true;  // To prevent multiple clicks.\n",
              "      quickchartButtonEl.classList.add('colab-df-spinner');\n",
              "      try {\n",
              "        const charts = await google.colab.kernel.invokeFunction(\n",
              "            'suggestCharts', [key], {});\n",
              "      } catch (error) {\n",
              "        console.error('Error during call to suggestCharts:', error);\n",
              "      }\n",
              "      quickchartButtonEl.classList.remove('colab-df-spinner');\n",
              "      quickchartButtonEl.classList.add('colab-df-quickchart-complete');\n",
              "    }\n",
              "    (() => {\n",
              "      let quickchartButtonEl =\n",
              "        document.querySelector('#df-2c1fa80a-1d90-4666-9d29-b16771717dc0 button');\n",
              "      quickchartButtonEl.style.display =\n",
              "        google.colab.kernel.accessAllowed ? 'block' : 'none';\n",
              "    })();\n",
              "  </script>\n",
              "</div>\n",
              "    </div>\n",
              "  </div>\n"
            ]
          },
          "metadata": {},
          "execution_count": 16
        }
      ]
    },
    {
      "cell_type": "markdown",
      "source": [
        "###2. Quais músicas mais tocadas em playlists?"
      ],
      "metadata": {
        "id": "NHCjBQLZI0Sf"
      }
    },
    {
      "cell_type": "code",
      "source": [
        "tab['track_name'].value_counts().head(10)"
      ],
      "metadata": {
        "colab": {
          "base_uri": "https://localhost:8080/"
        },
        "id": "Gq3S_-j4I26P",
        "outputId": "39f31c53-bc92-420a-942c-4d694d96dca9"
      },
      "execution_count": null,
      "outputs": [
        {
          "output_type": "execute_result",
          "data": {
            "text/plain": [
              "Poison          22\n",
              "Breathe         21\n",
              "Alive           20\n",
              "Forever         20\n",
              "Stay            19\n",
              "Paradise        19\n",
              "Dance Monkey    18\n",
              "Alone           17\n",
              "Lost            16\n",
              "Señorita        15\n",
              "Name: track_name, dtype: int64"
            ]
          },
          "metadata": {},
          "execution_count": 17
        }
      ]
    },
    {
      "cell_type": "markdown",
      "source": [
        "###3. Qual artista tem mais músicas?"
      ],
      "metadata": {
        "id": "D2nUpeAkLbxV"
      }
    },
    {
      "cell_type": "code",
      "source": [
        "tab['track_artist'].value_counts().head(1)"
      ],
      "metadata": {
        "colab": {
          "base_uri": "https://localhost:8080/"
        },
        "id": "HpqL8hicLf3D",
        "outputId": "e2502ec3-b3e6-4893-fc4c-d984d2d27f09"
      },
      "execution_count": null,
      "outputs": [
        {
          "output_type": "execute_result",
          "data": {
            "text/plain": [
              "Martin Garrix    161\n",
              "Name: track_artist, dtype: int64"
            ]
          },
          "metadata": {},
          "execution_count": 18
        }
      ]
    },
    {
      "cell_type": "markdown",
      "source": [
        "###4. Qual gênero de música é mais popular?"
      ],
      "metadata": {
        "id": "rjSx4eLSMeZK"
      }
    },
    {
      "cell_type": "code",
      "source": [
        "generos = tab.groupby('playlist_genre')['track_popularity'].sum()\n",
        "generos_sorted = generos.sort_values(ascending=False)\n",
        "#print(generos_sorted)\n",
        "\n",
        "plt.figure(figsize=(10, 6))  # Ajuste o tamanho da figura conforme necessário\n",
        "generos_sorted.plot(kind='bar', color='skyblue')\n",
        "plt.title('Soma da Popularidade por Gênero de Playlist')\n",
        "plt.xlabel('Gênero de Playlist')\n",
        "plt.ylabel('Popularidade Total')\n",
        "plt.xticks(rotation=45)  # Rotação dos rótulos do eixo x para facilitar a leitura\n",
        "plt.show()"
      ],
      "metadata": {
        "colab": {
          "base_uri": "https://localhost:8080/",
          "height": 583
        },
        "id": "cnIqG8uiMhEe",
        "outputId": "bbe9031d-caac-439e-fa82-aba162d44982"
      },
      "execution_count": null,
      "outputs": [
        {
          "output_type": "display_data",
          "data": {
            "text/plain": [
              "<Figure size 1000x600 with 1 Axes>"
            ],
            "image/png": "[encoded data removed]"
          },
          "metadata": {}
        }
      ]
    },
    {
      "cell_type": "markdown",
      "source": [],
      "metadata": {
        "id": "hWHLvavSSsVw"
      }
    },
    {
      "cell_type": "markdown",
      "source": [
        "###5. Quais as músicas mais populares por ano de lançamento?"
      ],
      "metadata": {
        "id": "q8xdrSMKS5rp"
      }
    },
    {
      "cell_type": "code",
      "source": [
        "\n",
        "#converte a coluna data de liberação da música em coluna de datas e extrai somente a informação do ano.\n",
        "tab['track_album_release_date']=pd.to_datetime(tab['track_album_release_date'])\n",
        "tab['ano']=tab['track_album_release_date'].dt.year\n",
        "\n",
        "# agrupa os lançamentos por ano\n",
        "\n",
        "idx = tab.groupby('ano')['track_popularity'].idxmax()\n",
        "musicas_mais_populares = tab.loc[idx][['ano', 'track_name','track_artist','track_popularity']]\n",
        "print(musicas_mais_populares.to_string(index=False))"
      ],
      "metadata": {
        "colab": {
          "base_uri": "https://localhost:8080/"
        },
        "id": "CloWsb1pTPdW",
        "outputId": "b5a08381-b7e0-4e8f-8a46-fd8842429bcc"
      },
      "execution_count": null,
      "outputs": [
        {
          "output_type": "stream",
          "name": "stdout",
          "text": [
            " ano                                              track_name                 track_artist  track_popularity\n",
            "1957                                             Mess Around                  Ray Charles                59\n",
            "1958                                          Jailhouse Rock                Elvis Presley                73\n",
            "1960                                At Last - Single Version                   Etta James                25\n",
            "1961                                            Paloma Negra               Chavela Vargas                47\n",
            "1962                                            Green Onions       Booker T. & the M.G.'s                64\n",
            "1963                       Christmas (Baby Please Come Home)                 Darlene Love                73\n",
            "1964                 The Sound of Silence - Acoustic Version            Simon & Garfunkel                74\n",
            "1965            (I Can't Get No) Satisfaction - Mono Version           The Rolling Stones                76\n",
            "1966                                     For What It's Worth          Buffalo Springfield                73\n",
            "1967                                         Brown Eyed Girl                 Van Morrison                79\n",
            "1968                                All Along the Watchtower                 Jimi Hendrix                76\n",
            "1969                                           Fortunate Son Creedence Clearwater Revival                80\n",
            "1970                             Let It Be - Remastered 2009                  The Beatles                79\n",
            "1971                                             Tiny Dancer                   Elton John                79\n",
            "1972 Rocket Man (I Think It's Going To Be A Long, Long Time)                   Elton John                81\n",
            "1973                                                Dream On                    Aerosmith                78\n",
            "1974                                      Sweet Home Alabama               Lynyrd Skynyrd                81\n",
            "1975                            Bohemian Rhapsody - 2011 Mix                        Queen                84\n",
            "1976                        Hotel California - 2013 Remaster                       Eagles                82\n",
            "1977                           We Will Rock You - Remastered                        Queen                79\n",
            "1978                            Don't Stop Me Now - 2011 Mix                        Queen                83\n",
            "1979                                         Highway to Hell                        AC/DC                83\n",
            "1980                                           Back In Black                        AC/DC                83\n",
            "1981                                    Don't Stop Believin'                      Journey                80\n",
            "1982                                                  Africa                         TOTO                83\n",
            "1983                                   Every Breath You Take                   The Police                83\n",
            "1984                                    Jump - 2015 Remaster                    Van Halen                78\n",
            "1985                                              Take on Me                         a-ha                83\n",
            "1986                                      Livin' On A Prayer                     Bon Jovi                83\n",
            "1987                                     Sweet Child O' Mine                Guns N' Roses                82\n",
            "1988                                                Fast Car                Tracy Chapman                77\n",
            "1989                                      Kickstart My Heart                  Mötley Crüe                76\n",
            "1990                                           Thunderstruck                        AC/DC                81\n",
            "1991                                      Losing My Religion                       R.E.M.                81\n",
            "1992                                     Killing In The Name     Rage Against The Machine                78\n",
            "1993                                                   Creep                    Radiohead                82\n",
            "1994                         All I Want for Christmas Is You                 Mariah Carey                90\n",
            "1995                                      Gangsta's Paradise                       Coolio                80\n",
            "1996                                                 Wannabe                  Spice Girls                79\n",
            "1997                                   Bitter Sweet Symphony                    The Verve                78\n",
            "1998                                                    Iris            The Goo Goo Dolls                77\n",
            "1999                                         Californication        Red Hot Chili Peppers                81\n",
            "2000                                              In the End                  Linkin Park                83\n",
            "2001                                              Chop Suey!             System Of A Down                80\n",
            "2002                                           The Scientist                     Coldplay                83\n",
            "2003                                                    Numb                  Linkin Park                81\n",
            "2004                        Yeah! (feat. Lil Jon & Ludacris)                        Usher                79\n",
            "2005                                                 Fix You                     Coldplay                81\n",
            "2006                                           Snow (Hey Oh)        Red Hot Chili Peppers                79\n",
            "2007                                                  No One                  Alicia Keys                79\n",
            "2008                                               I'm Yours                   Jason Mraz                82\n",
            "2009                                     Party In The U.S.A.                  Miley Cyrus                78\n",
            "2010                                        Hey, Soul Sister                        Train                82\n",
            "2011                                               Mistletoe                Justin Bieber                84\n",
            "2012                        Can't Hold Us - feat. Ray Dalton      Macklemore & Ryan Lewis                83\n",
            "2013                                               All of Me                  John Legend                85\n",
            "2014                      Dancin (feat. Luvli) - Krono Remix                  Aaron Smith                84\n",
            "2015                              The Less I Know The Better                  Tame Impala                85\n",
            "2016                                              goosebumps                 Travis Scott                86\n",
            "2017                                                Believer              Imagine Dragons                88\n",
            "2018                                                 Falling                Trevor Daniel                97\n",
            "2019                                            Dance Monkey                  Tones and I               100\n",
            "2020                                                   Yummy                Justin Bieber                95\n"
          ]
        }
      ]
    },
    {
      "cell_type": "markdown",
      "source": [
        "###6.Das músicas mais populares de cada ano, quais artistas são os top 10?"
      ],
      "metadata": {
        "id": "KJSAzewxa7a9"
      }
    },
    {
      "cell_type": "code",
      "source": [
        "musicas_mais_populares['track_artist'].value_counts().head(10)\n",
        "\n"
      ],
      "metadata": {
        "colab": {
          "base_uri": "https://localhost:8080/"
        },
        "id": "QU9v6XOObDHZ",
        "outputId": "9f36a49d-5733-45ad-9f9a-18e44a56bb4c"
      },
      "execution_count": null,
      "outputs": [
        {
          "output_type": "execute_result",
          "data": {
            "text/plain": [
              "AC/DC                    3\n",
              "Queen                    3\n",
              "Red Hot Chili Peppers    2\n",
              "Linkin Park              2\n",
              "Justin Bieber            2\n",
              "Coldplay                 2\n",
              "Elton John               2\n",
              "Ray Charles              1\n",
              "Usher                    1\n",
              "Mariah Carey             1\n",
              "Name: track_artist, dtype: int64"
            ]
          },
          "metadata": {},
          "execution_count": 21
        }
      ]
    },
    {
      "cell_type": "markdown",
      "source": [
        "###7. Selecionando o ano, qual música e artista são os resultados correspondentes mais tocados? fazer isso de forma interativa."
      ],
      "metadata": {
        "id": "SQoDNEEkoC0X"
      }
    },
    {
      "cell_type": "code",
      "source": [
        "import pandas as pd\n",
        "import ipywidgets as widgets\n",
        "from IPython.display import display\n",
        "\n",
        "df=musicas_mais_populares\n",
        "\n",
        "# Função para encontrar a música mais ouvida de um ano\n",
        "def encontrar_musica_mais_ouvida(ano):\n",
        "    ano_filtrado = df[df['ano'] == ano]\n",
        "    if not ano_filtrado.empty:\n",
        "        musica_mais_ouvida = ano_filtrado[ano_filtrado['track_popularity'] == ano_filtrado['track_popularity'].max()]\n",
        "        return musica_mais_ouvida\n",
        "    else:\n",
        "        return \"Ano não encontrado.\"\n",
        "\n",
        "# Lista de anos únicos no DataFrame\n",
        "anos_unicos = sorted(df['ano'].unique())\n",
        "\n",
        "# Widget de seleção de ano\n",
        "ano_selector = widgets.Dropdown(\n",
        "    options=anos_unicos,\n",
        "    description='Selecione o Ano:',\n",
        ")\n",
        "\n",
        "# Função de manipulação de widget\n",
        "def on_ano_change(change):\n",
        "    if change['type'] == 'change' and change['name'] == 'value':\n",
        "        ano_selecionado = ano_selector.value\n",
        "        resultado = encontrar_musica_mais_ouvida(ano_selecionado)\n",
        "        if isinstance(resultado, pd.DataFrame):\n",
        "            display(resultado)\n",
        "        else:\n",
        "            print(resultado)\n",
        "\n",
        "# Conectar a função de manipulação de widget\n",
        "ano_selector.observe(on_ano_change)\n",
        "\n",
        "# Exibir o widget de seleção de ano\n",
        "display(ano_selector)"
      ],
      "metadata": {
        "colab": {
          "base_uri": "https://localhost:8080/",
          "height": 177,
          "referenced_widgets": [
            "bca63821fe534dbaac281316b94aa217",
            "76961ebf66d5467698c1becfce9fc5c3",
            "55a79a9541ca43bb80afb69bb725fed9"
          ]
        },
        "id": "eE_JFA49nD4X",
        "outputId": "bfd79e2a-e73c-4588-a07a-ba41bfcc9825"
      },
      "execution_count": 53,
      "outputs": [
        {
          "output_type": "display_data",
          "data": {
            "text/plain": [
              "Dropdown(description='Selecione o Ano:', options=(1957, 1958, 1960, 1961, 1962, 1963, 1964, 1965, 1966, 1967, …"
            ],
            "application/vnd.jupyter.widget-view+json": {
              "version_major": 2,
              "version_minor": 0,
              "model_id": "bca63821fe534dbaac281316b94aa217"
            }
          },
          "metadata": {}
        },
        {
          "output_type": "display_data",
          "data": {
            "text/plain": [
              "       ano track_name   track_artist  track_popularity\n",
              "3657  1988   Fast Car  Tracy Chapman                77"
            ],
            "text/html": [
              "\n",
              "  <div id=\"df-406da799-8e72-4acb-894d-e35a9c50b2ac\" class=\"colab-df-container\">\n",
              "    <div>\n",
              "<style scoped>\n",
              "    .dataframe tbody tr th:only-of-type {\n",
              "        vertical-align: middle;\n",
              "    }\n",
              "\n",
              "    .dataframe tbody tr th {\n",
              "        vertical-align: top;\n",
              "    }\n",
              "\n",
              "    .dataframe thead th {\n",
              "        text-align: right;\n",
              "    }\n",
              "</style>\n",
              "<table border=\"1\" class=\"dataframe\">\n",
              "  <thead>\n",
              "    <tr style=\"text-align: right;\">\n",
              "      <th></th>\n",
              "      <th>ano</th>\n",
              "      <th>track_name</th>\n",
              "      <th>track_artist</th>\n",
              "      <th>track_popularity</th>\n",
              "    </tr>\n",
              "  </thead>\n",
              "  <tbody>\n",
              "    <tr>\n",
              "      <th>3657</th>\n",
              "      <td>1988</td>\n",
              "      <td>Fast Car</td>\n",
              "      <td>Tracy Chapman</td>\n",
              "      <td>77</td>\n",
              "    </tr>\n",
              "  </tbody>\n",
              "</table>\n",
              "</div>\n",
              "    <div class=\"colab-df-buttons\">\n",
              "\n",
              "  <div class=\"colab-df-container\">\n",
              "    <button class=\"colab-df-convert\" onclick=\"convertToInteractive('df-406da799-8e72-4acb-894d-e35a9c50b2ac')\"\n",
              "            title=\"Convert this dataframe to an interactive table.\"\n",
              "            style=\"display:none;\">\n",
              "\n",
              "  <svg xmlns=\"http://www.w3.org/2000/svg\" height=\"24px\" viewBox=\"0 -960 960 960\">\n",
              "    <path d=\"M120-120v-720h720v720H120Zm60-500h600v-160H180v160Zm220 220h160v-160H400v160Zm0 220h160v-160H400v160ZM180-400h160v-160H180v160Zm440 0h160v-160H620v160ZM180-180h160v-160H180v160Zm440 0h160v-160H620v160Z\"/>\n",
              "  </svg>\n",
              "    </button>\n",
              "\n",
              "  <style>\n",
              "    .colab-df-container {\n",
              "      display:flex;\n",
              "      gap: 12px;\n",
              "    }\n",
              "\n",
              "    .colab-df-convert {\n",
              "      background-color: #E8F0FE;\n",
              "      border: none;\n",
              "      border-radius: 50%;\n",
              "      cursor: pointer;\n",
              "      display: none;\n",
              "      fill: #1967D2;\n",
              "      height: 32px;\n",
              "      padding: 0 0 0 0;\n",
              "      width: 32px;\n",
              "    }\n",
              "\n",
              "    .colab-df-convert:hover {\n",
              "      background-color: #E2EBFA;\n",
              "      box-shadow: 0px 1px 2px rgba(60, 64, 67, 0.3), 0px 1px 3px 1px rgba(60, 64, 67, 0.15);\n",
              "      fill: #174EA6;\n",
              "    }\n",
              "\n",
              "    .colab-df-buttons div {\n",
              "      margin-bottom: 4px;\n",
              "    }\n",
              "\n",
              "    [theme=dark] .colab-df-convert {\n",
              "      background-color: #3B4455;\n",
              "      fill: #D2E3FC;\n",
              "    }\n",
              "\n",
              "    [theme=dark] .colab-df-convert:hover {\n",
              "      background-color: #434B5C;\n",
              "      box-shadow: 0px 1px 3px 1px rgba(0, 0, 0, 0.15);\n",
              "      filter: drop-shadow(0px 1px 2px rgba(0, 0, 0, 0.3));\n",
              "      fill: #FFFFFF;\n",
              "    }\n",
              "  </style>\n",
              "\n",
              "    <script>\n",
              "      const buttonEl =\n",
              "        document.querySelector('#df-406da799-8e72-4acb-894d-e35a9c50b2ac button.colab-df-convert');\n",
              "      buttonEl.style.display =\n",
              "        google.colab.kernel.accessAllowed ? 'block' : 'none';\n",
              "\n",
              "      async function convertToInteractive(key) {\n",
              "        const element = document.querySelector('#df-406da799-8e72-4acb-894d-e35a9c50b2ac');\n",
              "        const dataTable =\n",
              "          await google.colab.kernel.invokeFunction('convertToInteractive',\n",
              "                                                    [key], {});\n",
              "        if (!dataTable) return;\n",
              "\n",
              "        const docLinkHtml = 'Like what you see? Visit the ' +\n",
              "          '<a target=\"_blank\" href=https://colab.research.google.com/notebooks/data_table.ipynb>data table notebook</a>'\n",
              "          + ' to learn more about interactive tables.';\n",
              "        element.innerHTML = '';\n",
              "        dataTable['output_type'] = 'display_data';\n",
              "        await google.colab.output.renderOutput(dataTable, element);\n",
              "        const docLink = document.createElement('div');\n",
              "        docLink.innerHTML = docLinkHtml;\n",
              "        element.appendChild(docLink);\n",
              "      }\n",
              "    </script>\n",
              "  </div>\n",
              "\n",
              "    </div>\n",
              "  </div>\n"
            ]
          },
          "metadata": {}
        },
        {
          "output_type": "display_data",
          "data": {
            "text/plain": [
              "       ano track_name   track_artist  track_popularity\n",
              "3155  2018    Falling  Trevor Daniel                97"
            ],
            "text/html": [
              "\n",
              "  <div id=\"df-bcabbb7a-04ca-47a7-91ab-76305deea5a8\" class=\"colab-df-container\">\n",
              "    <div>\n",
              "<style scoped>\n",
              "    .dataframe tbody tr th:only-of-type {\n",
              "        vertical-align: middle;\n",
              "    }\n",
              "\n",
              "    .dataframe tbody tr th {\n",
              "        vertical-align: top;\n",
              "    }\n",
              "\n",
              "    .dataframe thead th {\n",
              "        text-align: right;\n",
              "    }\n",
              "</style>\n",
              "<table border=\"1\" class=\"dataframe\">\n",
              "  <thead>\n",
              "    <tr style=\"text-align: right;\">\n",
              "      <th></th>\n",
              "      <th>ano</th>\n",
              "      <th>track_name</th>\n",
              "      <th>track_artist</th>\n",
              "      <th>track_popularity</th>\n",
              "    </tr>\n",
              "  </thead>\n",
              "  <tbody>\n",
              "    <tr>\n",
              "      <th>3155</th>\n",
              "      <td>2018</td>\n",
              "      <td>Falling</td>\n",
              "      <td>Trevor Daniel</td>\n",
              "      <td>97</td>\n",
              "    </tr>\n",
              "  </tbody>\n",
              "</table>\n",
              "</div>\n",
              "    <div class=\"colab-df-buttons\">\n",
              "\n",
              "  <div class=\"colab-df-container\">\n",
              "    <button class=\"colab-df-convert\" onclick=\"convertToInteractive('df-bcabbb7a-04ca-47a7-91ab-76305deea5a8')\"\n",
              "            title=\"Convert this dataframe to an interactive table.\"\n",
              "            style=\"display:none;\">\n",
              "\n",
              "  <svg xmlns=\"http://www.w3.org/2000/svg\" height=\"24px\" viewBox=\"0 -960 960 960\">\n",
              "    <path d=\"M120-120v-720h720v720H120Zm60-500h600v-160H180v160Zm220 220h160v-160H400v160Zm0 220h160v-160H400v160ZM180-400h160v-160H180v160Zm440 0h160v-160H620v160ZM180-180h160v-160H180v160Zm440 0h160v-160H620v160Z\"/>\n",
              "  </svg>\n",
              "    </button>\n",
              "\n",
              "  <style>\n",
              "    .colab-df-container {\n",
              "      display:flex;\n",
              "      gap: 12px;\n",
              "    }\n",
              "\n",
              "    .colab-df-convert {\n",
              "      background-color: #E8F0FE;\n",
              "      border: none;\n",
              "      border-radius: 50%;\n",
              "      cursor: pointer;\n",
              "      display: none;\n",
              "      fill: #1967D2;\n",
              "      height: 32px;\n",
              "      padding: 0 0 0 0;\n",
              "      width: 32px;\n",
              "    }\n",
              "\n",
              "    .colab-df-convert:hover {\n",
              "      background-color: #E2EBFA;\n",
              "      box-shadow: 0px 1px 2px rgba(60, 64, 67, 0.3), 0px 1px 3px 1px rgba(60, 64, 67, 0.15);\n",
              "      fill: #174EA6;\n",
              "    }\n",
              "\n",
              "    .colab-df-buttons div {\n",
              "      margin-bottom: 4px;\n",
              "    }\n",
              "\n",
              "    [theme=dark] .colab-df-convert {\n",
              "      background-color: #3B4455;\n",
              "      fill: #D2E3FC;\n",
              "    }\n",
              "\n",
              "    [theme=dark] .colab-df-convert:hover {\n",
              "      background-color: #434B5C;\n",
              "      box-shadow: 0px 1px 3px 1px rgba(0, 0, 0, 0.15);\n",
              "      filter: drop-shadow(0px 1px 2px rgba(0, 0, 0, 0.3));\n",
              "      fill: #FFFFFF;\n",
              "    }\n",
              "  </style>\n",
              "\n",
              "    <script>\n",
              "      const buttonEl =\n",
              "        document.querySelector('#df-bcabbb7a-04ca-47a7-91ab-76305deea5a8 button.colab-df-convert');\n",
              "      buttonEl.style.display =\n",
              "        google.colab.kernel.accessAllowed ? 'block' : 'none';\n",
              "\n",
              "      async function convertToInteractive(key) {\n",
              "        const element = document.querySelector('#df-bcabbb7a-04ca-47a7-91ab-76305deea5a8');\n",
              "        const dataTable =\n",
              "          await google.colab.kernel.invokeFunction('convertToInteractive',\n",
              "                                                    [key], {});\n",
              "        if (!dataTable) return;\n",
              "\n",
              "        const docLinkHtml = 'Like what you see? Visit the ' +\n",
              "          '<a target=\"_blank\" href=https://colab.research.google.com/notebooks/data_table.ipynb>data table notebook</a>'\n",
              "          + ' to learn more about interactive tables.';\n",
              "        element.innerHTML = '';\n",
              "        dataTable['output_type'] = 'display_data';\n",
              "        await google.colab.output.renderOutput(dataTable, element);\n",
              "        const docLink = document.createElement('div');\n",
              "        docLink.innerHTML = docLinkHtml;\n",
              "        element.appendChild(docLink);\n",
              "      }\n",
              "    </script>\n",
              "  </div>\n",
              "\n",
              "    </div>\n",
              "  </div>\n"
            ]
          },
          "metadata": {}
        }
      ]
    },
    {
      "cell_type": "markdown",
      "source": [
        "###8. Verifique se existe relação entre a popularidade de uma música e a danceabilidade dela."
      ],
      "metadata": {
        "id": "-DDk-sAYBZV0"
      }
    },
    {
      "cell_type": "code",
      "source": [
        "correlacao = tab['danceability'].corr(tab['track_popularity'])\n",
        "print(f\"A correlação entre 'danceability' e 'track_popularity' é: {correlacao}\")\n",
        "# Criar um gráfico de dispersão\n",
        "plt.figure(figsize=(8, 6))\n",
        "plt.scatter(tab['danceability'], tab['track_popularity'], alpha=0.5)\n",
        "plt.title('Gráfico de Correlação entre Danceability e Track Popularity')\n",
        "plt.xlabel('Danceability')\n",
        "plt.ylabel('Track Popularity')\n",
        "\n",
        "# Exibir o gráfico\n",
        "plt.show()"
      ],
      "metadata": {
        "id": "DsstwdDCCFNY",
        "colab": {
          "base_uri": "https://localhost:8080/",
          "height": 582
        },
        "outputId": "cc81aa5a-4624-4dfb-e9a0-67edb768d10e"
      },
      "execution_count": null,
      "outputs": [
        {
          "output_type": "stream",
          "name": "stdout",
          "text": [
            "A correlação entre 'danceability' e 'track_popularity' é: 0.06474767126121224\n"
          ]
        },
        {
          "output_type": "display_data",
          "data": {
            "text/plain": [
              "<Figure size 800x600 with 1 Axes>"
            ],
            "image/png": "[encoded data removed]"
          },
          "metadata": {}
        }
      ]
    },
    {
      "cell_type": "markdown",
      "source": [
        "Como o valor de relação é de 0,06 e no gráfico podemos observar os pontos bem dispersos podemos considerar uma relação fraca entre danceabilidade e popularidade das músicas."
      ],
      "metadata": {
        "id": "I9Y9lLhqC9gV"
      }
    },
    {
      "cell_type": "markdown",
      "source": [
        "###9. Existe alguma correlação entre a energia e a popularidade das músicas?"
      ],
      "metadata": {
        "id": "RWYEAGICDQuW"
      }
    },
    {
      "cell_type": "code",
      "source": [
        "correlacao = tab['energy'].corr(tab['track_popularity'])\n",
        "print(f\"A correlação entre 'energy' e 'track_popularity' é: {correlacao}\")\n",
        "# Criar um gráfico de dispersão\n",
        "plt.figure(figsize=(8, 6))\n",
        "plt.scatter(tab['energy'], tab['track_popularity'], alpha=0.5)\n",
        "plt.title('Gráfico de Correlação entre energy e Track Popularity')\n",
        "plt.xlabel('energy')\n",
        "plt.ylabel('Track Popularity')\n",
        "\n",
        "# Exibir o gráfico\n",
        "plt.show()"
      ],
      "metadata": {
        "id": "HhrYwfHODhx4"
      },
      "execution_count": null,
      "outputs": []
    },
    {
      "cell_type": "markdown",
      "source": [
        "de igual forma, a resposta para esta questão é uma correlação fraca."
      ],
      "metadata": {
        "id": "D7ETPRLgD2bW"
      }
    },
    {
      "cell_type": "markdown",
      "source": [
        "###10. Verifique a correlação entre o genero da música e a popularidade."
      ],
      "metadata": {
        "id": "hEYjUgVpEKLE"
      }
    },
    {
      "cell_type": "code",
      "source": [
        "# Criar variáveis dummy a partir da coluna 'playlist_genre'\n",
        "dummy_genre = pd.get_dummies(tab['playlist_genre'])\n",
        "\n",
        "# Calcular a correlação entre 'track_popularity' e cada variável dummy\n",
        "correlacoes = {}\n",
        "\n",
        "for col in dummy_genre.columns:\n",
        "    correlacao = tab['track_popularity'].corr(dummy_genre[col])\n",
        "    correlacoes[col] = correlacao\n",
        "\n",
        "# Exibir as correlações\n",
        "print(\"Correlações entre 'track_popularity' e variáveis dummy:\")\n",
        "for col, correlacao in correlacoes.items():\n",
        "    print(f\"{col}: {correlacao}\")"
      ],
      "metadata": {
        "id": "WzNyZH1FKzya"
      },
      "execution_count": null,
      "outputs": []
    },
    {
      "cell_type": "markdown",
      "source": [
        "###11. Verifique se existe correlação entre o ano de lançamento da música e a populariadade"
      ],
      "metadata": {
        "id": "pcj7GqonK1YH"
      }
    },
    {
      "cell_type": "code",
      "source": [
        "# Calcular a correlação entre 'ano' e 'track_popularity'\n",
        "correlacao = musicas_mais_populares['ano'].corr(musicas_mais_populares['track_popularity'])\n",
        "print(f\"A correlação entre 'ano' e 'track_popularity' é: {correlacao}\")\n",
        "\n",
        "# Criar um gráfico de dispersão\n",
        "plt.figure(figsize=(8, 6))\n",
        "plt.scatter(musicas_mais_populares['ano'], musicas_mais_populares['track_popularity'], alpha=0.5)\n",
        "plt.title('Gráfico de Correlação entre ano e Track Popularity')\n",
        "plt.xlabel('ano')\n",
        "plt.ylabel('Track Popularity')\n",
        "\n",
        "# Exibir o gráfico\n",
        "plt.show()\n"
      ],
      "metadata": {
        "id": "GSwt9bYaKcXl"
      },
      "execution_count": null,
      "outputs": []
    },
    {
      "cell_type": "markdown",
      "source": [
        "Neste caso como o valor de correlação é 0,6 (arredondando), podemos dizer que existe uma correlação positiva moderada."
      ],
      "metadata": {
        "id": "gJJYizoiLD9V"
      }
    },
    {
      "cell_type": "markdown",
      "source": [
        "###12. Verifique se o tempo de lançamento influencia na popularidade da música"
      ],
      "metadata": {
        "id": "nwNLGLrgLieb"
      }
    },
    {
      "cell_type": "code",
      "source": [
        "#calcular o tempo de lançamento de uma música - acrescentando uma coluna nova dias_desde_lancamento\n",
        "\n",
        "from datetime import datetime\n",
        "tab['track_album_release_date'] = pd.to_datetime(tab['track_album_release_date'])\n",
        "hoje = datetime.today()\n",
        "tab['dias_desde_lancamento'] = (hoje - tab['track_album_release_date']).dt.days\n",
        "\n",
        "# calculando a correlação:\n",
        "\n",
        "correlacao = tab['dias_desde_lancamento'].corr(tab['track_popularity'])\n",
        "print(f\"A correlação entre 'dias_desde_lancamento' e 'track_popularity' é: {correlacao}\")\n",
        "\n",
        "# Criar um gráfico de dispersão\n",
        "plt.figure(figsize=(8, 6))\n",
        "plt.scatter(tab['dias_desde_lancamento'], tab['track_popularity'], alpha=0.5)\n",
        "plt.title('Gráfico de Correlação entre dias_desde_lancamento e Track Popularity')\n",
        "plt.xlabel('dias_desde_lancamento')\n",
        "plt.ylabel('Track Popularity')\n",
        "\n",
        "# Exibir o gráfico\n",
        "plt.show()"
      ],
      "metadata": {
        "id": "Gb8A-g5lLvJX"
      },
      "execution_count": null,
      "outputs": []
    },
    {
      "cell_type": "markdown",
      "source": [
        "novamente uma correlação fraca."
      ],
      "metadata": {
        "id": "I9FQymxoNowh"
      }
    },
    {
      "cell_type": "markdown",
      "source": [
        "###13. Verifique correlação entre energia e danceabilidade:"
      ],
      "metadata": {
        "id": "AcvCZCtKPWqg"
      }
    },
    {
      "cell_type": "code",
      "source": [
        "# Calcular a correlação entre 'energy' e 'danceability'\n",
        "correlacao = tab['energy'].corr(tab['danceability'])\n",
        "print(f\"A correlação entre 'energy' e 'danceability' é: {correlacao}\")\n",
        "\n",
        "# Criar um gráfico de dispersão\n",
        "plt.figure(figsize=(8, 6))\n",
        "plt.scatter(tab['energy'], tab['danceability'], alpha=0.5)\n",
        "plt.title('Gráfico de Correlação entre energy e Danceability')\n",
        "plt.xlabel('energy')\n",
        "plt.ylabel('Danceability')\n",
        "\n",
        "# Exibir o gráfico\n",
        "plt.show()"
      ],
      "metadata": {
        "id": "iCi8Pm8EPjJ2"
      },
      "execution_count": null,
      "outputs": []
    },
    {
      "cell_type": "markdown",
      "source": [
        "novamente uma correlação fraca."
      ],
      "metadata": {
        "id": "0PNSd4KLQCkr"
      }
    },
    {
      "cell_type": "markdown",
      "source": [
        "###14. Plote o mapa de calor entre as colunas da base de dados."
      ],
      "metadata": {
        "id": "gMeXP4k2VWWm"
      }
    },
    {
      "cell_type": "code",
      "source": [
        "import pandas as pd\n",
        "import seaborn as sns\n",
        "import matplotlib.pyplot as plt\n",
        "correlation_matrix = tab.corr()\n",
        "plt.figure(figsize=(10, 8))\n",
        "sns.heatmap(correlation_matrix, annot=True, cmap='coolwarm', linewidths=0.5)\n",
        "plt.title('Mapa de Calor da Correlação entre Colunas')\n",
        "plt.show()"
      ],
      "metadata": {
        "id": "bTJ_ECZDU89a"
      },
      "execution_count": null,
      "outputs": []
    },
    {
      "cell_type": "markdown",
      "source": [
        "neste mapa de calor é possível verificar que existe também uma correlação entre loudness e energy, o que significa que quanto mais sonora a música, mais energia a música apresentará e vice versa."
      ],
      "metadata": {
        "id": "-sLBdcWOWMhS"
      }
    },
    {
      "cell_type": "code",
      "source": [
        "!pip install dash dash_bootstrap_components\n"
      ],
      "metadata": {
        "id": "B1HAkC_iER5y"
      },
      "execution_count": null,
      "outputs": []
    },
    {
      "cell_type": "code",
      "source": [
        "import dash\n",
        "from dash import dcc, html, Dash\n",
        "from dash.dependencies import Input, Output\n",
        "import dash_bootstrap_components as dbc\n",
        "import plotly.express as px\n",
        "import pandas as pd\n",
        "from PIL import Image\n",
        "\n",
        "pil_img = Image.open(\"/content/fig1.png\")\n",
        "LOGO = pil_img.resize((500,100))\n",
        "\n",
        "\n",
        "\n",
        "app = Dash(__name__)\n",
        "\n",
        "app.layout = dbc.Container([\n",
        "\n",
        "    dbc.Row([\n",
        "\n",
        "        html.H1(\"Trabalho 1 - Ciência de Dados\"),\n",
        "\n",
        "        html.H3(\"Análise exploratória - banco de dados: Spotify Songs\"),\n",
        "\n",
        "        html.P(\"análise de dispersão da base de dados\"),\n",
        "\n",
        "        html.Img(src=pil_img),\n",
        "\n",
        "    ])\n",
        "])\n",
        "\n",
        "if __name__ == '__main__':\n",
        "    #app.run_server()\n",
        "    app.run(jupyter_mode=\"external\")"
      ],
      "metadata": {
        "id": "EBmAp_mPEmlR",
        "colab": {
          "base_uri": "https://localhost:8080/",
          "height": 52
        },
        "outputId": "0fd80407-3ce7-4e21-fea7-f3340e9be2f4"
      },
      "execution_count": 52,
      "outputs": [
        {
          "output_type": "stream",
          "name": "stdout",
          "text": [
            "Dash app running on:\n"
          ]
        },
        {
          "output_type": "display_data",
          "data": {
            "text/plain": [
              "<IPython.core.display.Javascript object>"
            ],
            "application/javascript": [
              "(async (port, path, text, element) => {\n",
              "    if (!google.colab.kernel.accessAllowed) {\n",
              "      return;\n",
              "    }\n",
              "    element.appendChild(document.createTextNode(''));\n",
              "    const url = await google.colab.kernel.proxyPort(port);\n",
              "    const anchor = document.createElement('a');\n",
              "    anchor.href = new URL(path, url).toString();\n",
              "    anchor.target = '_blank';\n",
              "    anchor.setAttribute('data-href', url + path);\n",
              "    anchor.textContent = text;\n",
              "    element.appendChild(anchor);\n",
              "  })(8050, \"/\", \"http://127.0.0.1:8050/\", window.element)"
            ]
          },
          "metadata": {}
        }
      ]
    }
  ]
}